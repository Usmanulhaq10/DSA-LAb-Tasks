{
 "cells": [
  {
   "cell_type": "code",
   "execution_count": 1,
   "id": "522a2109-2ad5-4f9e-a410-a957664f5ed4",
   "metadata": {},
   "outputs": [],
   "source": [
    "# TASK 1. Using Recursive\n",
    "\n",
    "def dfs_recursive(graph, node, visited=None):\n",
    "    if visited is None:\n",
    "        visited = []\n",
    "    visited.append(node)\n",
    "    for neighbor in graph[node]:\n",
    "        if neighbor not in visited:\n",
    "            dfs_recursive(graph, neighbor, visited)\n",
    "    return visited\n"
   ]
  },
  {
   "cell_type": "code",
   "execution_count": 2,
   "id": "5026f5e6-247a-486d-a4a5-ab91c2fc06b5",
   "metadata": {},
   "outputs": [],
   "source": [
    "# TASK 1. DFS (Iterative)\n",
    "\n",
    "\n",
    "def dfs_iterative(graph, start):\n",
    "    visited = []\n",
    "    stack = [start]\n",
    "    \n",
    "    while stack:\n",
    "        node = stack.pop()\n",
    "        if node not in visited:\n",
    "            visited.append(node)\n",
    "            stack.extend(reversed(graph[node]))  # reverse to match recursive order\n",
    "    return visited\n"
   ]
  },
  {
   "cell_type": "code",
   "execution_count": 3,
   "id": "55c7228e-6bd4-4b3d-8377-9ed8ccd7c724",
   "metadata": {},
   "outputs": [],
   "source": [
    "# TASK 1.  BFS (Using Queue)\n",
    "\n",
    "from collections import deque\n",
    "\n",
    "def bfs(graph, start):\n",
    "    visited = []\n",
    "    queue = deque([start])\n",
    "\n",
    "    while queue:\n",
    "        node = queue.popleft()\n",
    "        if node not in visited:\n",
    "            visited.append(node)\n",
    "            queue.extend(graph[node])\n",
    "    return visited\n"
   ]
  },
  {
   "cell_type": "code",
   "execution_count": 4,
   "id": "23bd3cf4-211e-46f9-bdd1-a8bbbbf2d353",
   "metadata": {},
   "outputs": [
    {
     "name": "stdout",
     "output_type": "stream",
     "text": [
      "DFS Recursive: ['A', 'B', 'D', 'E', 'F', 'C']\n",
      "DFS Iterative: ['A', 'B', 'D', 'E', 'F', 'C']\n",
      "BFS: ['A', 'B', 'C', 'D', 'E', 'F']\n"
     ]
    }
   ],
   "source": [
    "# Example usage \n",
    "\n",
    "graph = {\n",
    "    'A': ['B', 'C'],\n",
    "    'B': ['D', 'E'],\n",
    "    'C': ['F'],\n",
    "    'D': [],\n",
    "    'E': ['F'],\n",
    "    'F': []\n",
    "}\n",
    "\n",
    "print(\"DFS Recursive:\", dfs_recursive(graph, 'A'))  # ['A', 'B', 'D', 'E', 'F', 'C']\n",
    "print(\"DFS Iterative:\", dfs_iterative(graph, 'A'))  # ['A', 'B', 'D', 'E', 'F', 'C']\n",
    "print(\"BFS:\", bfs(graph, 'A'))                      # ['A', 'B', 'C', 'D', 'E', 'F']\n"
   ]
  },
  {
   "cell_type": "code",
   "execution_count": 5,
   "id": "4b7d500b-2fa3-4507-a3e1-303a3763cdd1",
   "metadata": {},
   "outputs": [],
   "source": [
    "# TASK 2\n",
    "\n",
    "import heapq\n",
    "\n",
    "def dijkstra(graph, start):\n",
    "    # Initialize distances dictionary with infinity for all nodes except start\n",
    "    distances = {node: float('inf') for node in graph}\n",
    "    distances[start] = 0\n",
    "\n",
    "    # Min-heap priority queue: (distance, node)\n",
    "    priority_queue = [(0, start)]\n",
    "\n",
    "    while priority_queue:\n",
    "        current_distance, current_node = heapq.heappop(priority_queue)\n",
    "\n",
    "        # Skip if we've already found a shorter path\n",
    "        if current_distance > distances[current_node]:\n",
    "            continue\n",
    "\n",
    "        for neighbor, weight in graph[current_node].items():\n",
    "            distance = current_distance + weight\n",
    "\n",
    "            if distance < distances[neighbor]:\n",
    "                distances[neighbor] = distance\n",
    "                heapq.heappush(priority_queue, (distance, neighbor))\n",
    "\n",
    "    return distances\n"
   ]
  },
  {
   "cell_type": "code",
   "execution_count": 6,
   "id": "98dd7fbe-f8b2-4998-8c41-072909849889",
   "metadata": {},
   "outputs": [
    {
     "name": "stdout",
     "output_type": "stream",
     "text": [
      "{'A': 0, 'B': 1, 'C': 3, 'D': 4}\n"
     ]
    }
   ],
   "source": [
    "# Example Input & Output\n",
    "\n",
    "graph = {\n",
    "    'A': {'B': 1, 'C': 4},\n",
    "    'B': {'A': 1, 'C': 2, 'D': 5},\n",
    "    'C': {'A': 4, 'B': 2, 'D': 1},\n",
    "    'D': {'B': 5, 'C': 1}\n",
    "}\n",
    "\n",
    "print(dijkstra(graph, 'A'))\n"
   ]
  },
  {
   "cell_type": "code",
   "execution_count": 7,
   "id": "5ebaebbc-d84c-47a1-a961-3478883748b5",
   "metadata": {},
   "outputs": [],
   "source": [
    "# TASK 3. Cycle Detection in an Undirected Graph using Union-Find (Disjoint Set)\n",
    "\n",
    "def detect_cycle_undirected(graph):\n",
    "    parent = {}\n",
    "\n",
    "    def find(node):\n",
    "        if parent[node] != node:\n",
    "            parent[node] = find(parent[node])  # Path compression\n",
    "        return parent[node]\n",
    "\n",
    "    def union(u, v):\n",
    "        root_u = find(u)\n",
    "        root_v = find(v)\n",
    "        if root_u == root_v:\n",
    "            return True  # Cycle found\n",
    "        parent[root_v] = root_u\n",
    "        return False\n",
    "\n",
    "    # Initialize disjoint set\n",
    "    for node in graph:\n",
    "        parent[node] = node\n",
    "\n",
    "    # Check for cycles\n",
    "    for u in graph:\n",
    "        for v in graph[u]:\n",
    "            if u < v:  # Avoid double checking edges\n",
    "                if union(u, v):\n",
    "                    return True\n",
    "    return False\n"
   ]
  },
  {
   "cell_type": "code",
   "execution_count": 8,
   "id": "3cafab00-b417-403d-be19-8cac0cb3c362",
   "metadata": {},
   "outputs": [],
   "source": [
    "# TASK 3. 2️⃣ Cycle Detection in a Directed Graph using DFS + Recursion Stack\n",
    "\n",
    "def detect_cycle_directed(graph):\n",
    "    visited = set()\n",
    "    rec_stack = set()\n",
    "\n",
    "    def dfs(node):\n",
    "        visited.add(node)\n",
    "        rec_stack.add(node)\n",
    "\n",
    "        for neighbor in graph.get(node, []):\n",
    "            if neighbor not in visited:\n",
    "                if dfs(neighbor):\n",
    "                    return True\n",
    "            elif neighbor in rec_stack:\n",
    "                return True\n",
    "\n",
    "        rec_stack.remove(node)\n",
    "        return False\n",
    "\n",
    "    for node in graph:\n",
    "        if node not in visited:\n",
    "            if dfs(node):\n",
    "                return True\n",
    "    return False\n"
   ]
  },
  {
   "cell_type": "code",
   "execution_count": 9,
   "id": "4df29122-ba6f-4567-848b-08e13e125b67",
   "metadata": {},
   "outputs": [
    {
     "name": "stdout",
     "output_type": "stream",
     "text": [
      "True\n",
      "True\n"
     ]
    }
   ],
   "source": [
    "# Example Input & Output\n",
    "\n",
    "graph_undirected = {\n",
    "    'A': ['B', 'C'],\n",
    "    'B': ['A', 'D'],\n",
    "    'C': ['A', 'D'],\n",
    "    'D': ['B', 'C']\n",
    "}\n",
    "\n",
    "graph_directed = {\n",
    "    'A': ['B'],\n",
    "    'B': ['C'],\n",
    "    'C': ['A']\n",
    "}\n",
    "\n",
    "print(detect_cycle_undirected(graph_undirected))  # True\n",
    "print(detect_cycle_directed(graph_directed))      # True\n"
   ]
  },
  {
   "cell_type": "code",
   "execution_count": null,
   "id": "563a3309-1488-417d-a85d-26a43b5d6da3",
   "metadata": {},
   "outputs": [],
   "source": []
  }
 ],
 "metadata": {
  "kernelspec": {
   "display_name": "Python 3 (ipykernel)",
   "language": "python",
   "name": "python3"
  },
  "language_info": {
   "codemirror_mode": {
    "name": "ipython",
    "version": 3
   },
   "file_extension": ".py",
   "mimetype": "text/x-python",
   "name": "python",
   "nbconvert_exporter": "python",
   "pygments_lexer": "ipython3",
   "version": "3.11.7"
  }
 },
 "nbformat": 4,
 "nbformat_minor": 5
}
