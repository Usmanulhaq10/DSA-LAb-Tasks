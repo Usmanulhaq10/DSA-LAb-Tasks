{
 "cells": [
  {
   "cell_type": "code",
   "execution_count": 1,
   "id": "63384bce-bb46-47e1-aad5-006c0a243f3a",
   "metadata": {},
   "outputs": [],
   "source": [
    "# Task 1: Implementing a Min-Heap and Max-Heap\n",
    "\n",
    "class Heap:\n",
    "    def __init__(self, heap_type=\"min\"):\n",
    "        self.data = []\n",
    "        self.is_min_heap = heap_type == \"min\"\n",
    "\n",
    "    def insert(self, value):\n",
    "        self.data.append(value)\n",
    "        self._heapify_up(len(self.data) - 1)\n",
    "\n",
    "    def extract_root(self):\n",
    "        if not self.data:\n",
    "            return None\n",
    "        root = self.data[0]\n",
    "        last = self.data.pop()\n",
    "        if self.data:\n",
    "            self.data[0] = last\n",
    "            self._heapify_down(0)\n",
    "        return root\n",
    "\n",
    "    def peek(self):\n",
    "        return self.data[0] if self.data else None\n",
    "\n",
    "    def heapify(self, array):\n",
    "        self.data = array[:]\n",
    "        for i in reversed(range(len(self.data) // 2)):\n",
    "            self._heapify_down(i)\n",
    "\n",
    "    def _compare(self, child, parent):\n",
    "        return child < parent if self.is_min_heap else child > parent\n",
    "\n",
    "    def _heapify_up(self, index):\n",
    "        while index > 0:\n",
    "            parent = (index - 1) // 2\n",
    "            if self._compare(self.data[index], self.data[parent]):\n",
    "                self.data[index], self.data[parent] = self.data[parent], self.data[index]\n",
    "                index = parent\n",
    "            else:\n",
    "                break\n",
    "\n",
    "    def _heapify_down(self, index):\n",
    "        size = len(self.data)\n",
    "        while index < size:\n",
    "            smallest_or_largest = index\n",
    "            left = 2 * index + 1\n",
    "            right = 2 * index + 2\n",
    "\n",
    "            if left < size and self._compare(self.data[left], self.data[smallest_or_largest]):\n",
    "                smallest_or_largest = left\n",
    "            if right < size and self._compare(self.data[right], self.data[smallest_or_largest]):\n",
    "                smallest_or_largest = right\n",
    "\n",
    "            if smallest_or_largest != index:\n",
    "                self.data[index], self.data[smallest_or_largest] = self.data[smallest_or_largest], self.data[index]\n",
    "                index = smallest_or_largest\n",
    "            else:\n",
    "                break\n"
   ]
  },
  {
   "cell_type": "code",
   "execution_count": 2,
   "id": "5e7205bd-20e6-439f-b6af-e45bf6b8b871",
   "metadata": {},
   "outputs": [
    {
     "name": "stdout",
     "output_type": "stream",
     "text": [
      "Min-Heap Root Extracted: 2\n",
      "Max-Heap Root Extracted: 20\n"
     ]
    }
   ],
   "source": [
    "# TEST CASE \n",
    "min_heap = Heap(\"min\")\n",
    "min_heap.insert(10)\n",
    "min_heap.insert(5)\n",
    "min_heap.insert(20)\n",
    "min_heap.insert(2)\n",
    "print(\"Min-Heap Root Extracted:\", min_heap.extract_root())  # Output: 2\n",
    "\n",
    "max_heap = Heap(\"max\")\n",
    "max_heap.insert(10)\n",
    "max_heap.insert(5)\n",
    "max_heap.insert(20)\n",
    "max_heap.insert(2)\n",
    "print(\"Max-Heap Root Extracted:\", max_heap.extract_root())  # Output: 20\n"
   ]
  },
  {
   "cell_type": "code",
   "execution_count": 3,
   "id": "37eb8fdb-15a9-4110-9a6b-7281c3b3abc1",
   "metadata": {},
   "outputs": [],
   "source": [
    "# Task 2: Implementing a Priority Queue Using a Heap\n",
    "\n",
    "import heapq\n",
    "\n",
    "class PriorityQueue:\n",
    "    def __init__(self):\n",
    "        self.heap = []\n",
    "        self.counter = 0  # For tie-breaking among same-priority items\n",
    "\n",
    "    def enqueue(self, value, priority):\n",
    "        heapq.heappush(self.heap, (priority, self.counter, value))\n",
    "        self.counter += 1\n",
    "\n",
    "    def dequeue(self):\n",
    "        if self.heap:\n",
    "            return heapq.heappop(self.heap)[2]\n",
    "        return None\n",
    "\n",
    "    def peek(self):\n",
    "        if self.heap:\n",
    "            return self.heap[0][2]\n",
    "        return None\n",
    "\n",
    "    def is_empty(self):\n",
    "        return len(self.heap) == 0\n"
   ]
  },
  {
   "cell_type": "code",
   "execution_count": 4,
   "id": "c0890701-9473-4f2e-935c-ad205bcf5233",
   "metadata": {},
   "outputs": [
    {
     "name": "stdout",
     "output_type": "stream",
     "text": [
      "Task B\n",
      "Task C\n",
      "Task C\n",
      "Task A\n",
      "None\n"
     ]
    }
   ],
   "source": [
    "# TEST CASE \n",
    "pq = PriorityQueue()\n",
    "pq.enqueue(\"Task A\", 3)\n",
    "pq.enqueue(\"Task B\", 1)\n",
    "pq.enqueue(\"Task C\", 2)\n",
    "\n",
    "print(pq.dequeue())  # Output: \"Task B\"\n",
    "print(pq.peek())     # Output: \"Task C\"\n",
    "print(pq.dequeue())  # Output: \"Task C\"\n",
    "print(pq.dequeue())  # Output: \"Task A\"\n",
    "print(pq.dequeue())  # Output: None\n"
   ]
  },
  {
   "cell_type": "code",
   "execution_count": 5,
   "id": "500be060-b5d9-4c81-bd56-286479464df4",
   "metadata": {},
   "outputs": [],
   "source": [
    "# Task 3: Finding the K Smallest and K Largest Elements Using a Heap\n",
    "\n",
    "import heapq\n",
    "\n",
    "def find_k_smallest(arr, k):\n",
    "    return heapq.nsmallest(k, arr)\n",
    "\n",
    "def find_k_largest(arr, k):\n",
    "    return heapq.nlargest(k, arr)\n"
   ]
  },
  {
   "cell_type": "code",
   "execution_count": 6,
   "id": "f96b46d3-2c2f-4731-9384-40856c9c7497",
   "metadata": {},
   "outputs": [
    {
     "name": "stdout",
     "output_type": "stream",
     "text": [
      "K Smallest: [3, 4, 7]\n",
      "K Largest: [20, 15]\n",
      "K Smallest (k=5): [3, 4, 7, 10, 15]\n",
      "K Largest (k=4): [20, 15, 10, 7]\n"
     ]
    }
   ],
   "source": [
    "# TEST CASE \n",
    "\n",
    "arr = [10, 4, 3, 20, 15, 7]\n",
    "\n",
    "print(\"K Smallest:\", find_k_smallest(arr, 3))  # Output: [3, 4, 7]\n",
    "print(\"K Largest:\", find_k_largest(arr, 2))    # Output: [20, 15]\n",
    "\n",
    "# Additional test\n",
    "print(\"K Smallest (k=5):\", find_k_smallest(arr, 5))  # Output: [3, 4, 7, 10, 15]\n",
    "print(\"K Largest (k=4):\", find_k_largest(arr, 4))    # Output: [20, 15, 10, 7]\n"
   ]
  },
  {
   "cell_type": "code",
   "execution_count": null,
   "id": "8fb5437c-32a5-468e-9cfc-3da404d683e2",
   "metadata": {},
   "outputs": [],
   "source": []
  }
 ],
 "metadata": {
  "kernelspec": {
   "display_name": "Python 3 (ipykernel)",
   "language": "python",
   "name": "python3"
  },
  "language_info": {
   "codemirror_mode": {
    "name": "ipython",
    "version": 3
   },
   "file_extension": ".py",
   "mimetype": "text/x-python",
   "name": "python",
   "nbconvert_exporter": "python",
   "pygments_lexer": "ipython3",
   "version": "3.11.7"
  }
 },
 "nbformat": 4,
 "nbformat_minor": 5
}
