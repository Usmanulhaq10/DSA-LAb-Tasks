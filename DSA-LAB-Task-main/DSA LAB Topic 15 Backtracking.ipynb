{
 "cells": [
  {
   "cell_type": "code",
   "execution_count": 1,
   "id": "82287536-bd87-4e95-9bf2-99e4273ef968",
   "metadata": {},
   "outputs": [
    {
     "name": "stdout",
     "output_type": "stream",
     "text": [
      "Solution 1:\n",
      ".Q..\n",
      "...Q\n",
      "Q...\n",
      "..Q.\n",
      "\n",
      "Solution 2:\n",
      "..Q.\n",
      "Q...\n",
      "...Q\n",
      ".Q..\n",
      "\n"
     ]
    }
   ],
   "source": [
    "# TASK 1\n",
    "\n",
    "def solve_n_queens(n):\n",
    "    def backtrack(row, columns, diagonals1, diagonals2, board, solutions):\n",
    "        if row == n:\n",
    "            solutions.append([\"\".join(row) for row in board])\n",
    "            return\n",
    "\n",
    "        for col in range(n):\n",
    "            diag1 = row - col\n",
    "            diag2 = row + col\n",
    "\n",
    "            if col in columns or diag1 in diagonals1 or diag2 in diagonals2:\n",
    "                continue\n",
    "\n",
    "            board[row][col] = 'Q'\n",
    "            columns.add(col)\n",
    "            diagonals1.add(diag1)\n",
    "            diagonals2.add(diag2)\n",
    "\n",
    "            backtrack(row + 1, columns, diagonals1, diagonals2, board, solutions)\n",
    "\n",
    "            board[row][col] = '.'\n",
    "            columns.remove(col)\n",
    "            diagonals1.remove(diag1)\n",
    "            diagonals2.remove(diag2)\n",
    "\n",
    "    solutions = []\n",
    "    empty_board = [['.' for _ in range(n)] for _ in range(n)]\n",
    "    backtrack(0, set(), set(), set(), empty_board, solutions)\n",
    "    return solutions\n",
    "\n",
    "# Example usage:\n",
    "solutions = solve_n_queens(4)\n",
    "for idx, sol in enumerate(solutions, 1):\n",
    "    print(f\"Solution {idx}:\")\n",
    "    for row in sol:\n",
    "        print(row)\n",
    "    print()\n"
   ]
  },
  {
   "cell_type": "code",
   "execution_count": 2,
   "id": "5e2e16d9-4dbb-42fe-9b18-fa3943018c2d",
   "metadata": {},
   "outputs": [
    {
     "name": "stdout",
     "output_type": "stream",
     "text": [
      "['ABC', 'ACB', 'BAC', 'BCA', 'CAB', 'CBA']\n"
     ]
    }
   ],
   "source": [
    "# TASK 2\n",
    "\n",
    "def permute(s):\n",
    "    def backtrack(start):\n",
    "        if start == len(chars):\n",
    "            permutations.add(\"\".join(chars))\n",
    "            return\n",
    "\n",
    "        for i in range(start, len(chars)):\n",
    "            # Swap\n",
    "            chars[start], chars[i] = chars[i], chars[start]\n",
    "            backtrack(start + 1)\n",
    "            # Backtrack (undo swap)\n",
    "            chars[start], chars[i] = chars[i], chars[start]\n",
    "\n",
    "    chars = list(s)\n",
    "    permutations = set()\n",
    "    backtrack(0)\n",
    "    return sorted(list(permutations))\n",
    "\n",
    "# Example usage:\n",
    "print(permute(\"ABC\"))\n"
   ]
  },
  {
   "cell_type": "code",
   "execution_count": 3,
   "id": "cfc0b140-465f-4da5-a720-41cc980d410b",
   "metadata": {},
   "outputs": [],
   "source": [
    "# TASk 3\n",
    "\n",
    "def solve_sudoku(board):\n",
    "    def is_valid(r, c, num):\n",
    "        block_row = (r // 3) * 3\n",
    "        block_col = (c // 3) * 3\n",
    "        for i in range(9):\n",
    "            if board[r][i] == num or board[i][c] == num:\n",
    "                return False\n",
    "        for i in range(3):\n",
    "            for j in range(3):\n",
    "                if board[block_row + i][block_col + j] == num:\n",
    "                    return False\n",
    "        return True\n",
    "\n",
    "    def find_empty():\n",
    "        for r in range(9):\n",
    "            for c in range(9):\n",
    "                if board[r][c] == 0:\n",
    "                    return r, c\n",
    "        return None\n",
    "\n",
    "    def backtrack():\n",
    "        empty = find_empty()\n",
    "        if not empty:\n",
    "            return True  # Solved\n",
    "        r, c = empty\n",
    "\n",
    "        for num in range(1, 10):\n",
    "            if is_valid(r, c, num):\n",
    "                board[r][c] = num\n",
    "                if backtrack():\n",
    "                    return True\n",
    "                board[r][c] = 0  # Backtrack\n",
    "\n",
    "        return False\n",
    "\n",
    "    backtrack()\n"
   ]
  },
  {
   "cell_type": "code",
   "execution_count": 4,
   "id": "b415d301-58e5-4377-ba07-307ed3260a45",
   "metadata": {},
   "outputs": [
    {
     "name": "stdout",
     "output_type": "stream",
     "text": [
      "[5, 3, 4, 6, 7, 8, 9, 1, 2]\n",
      "[6, 7, 2, 1, 9, 5, 3, 4, 8]\n",
      "[1, 9, 8, 3, 4, 2, 5, 6, 7]\n",
      "[8, 5, 9, 7, 6, 1, 4, 2, 3]\n",
      "[4, 2, 6, 8, 5, 3, 7, 9, 1]\n",
      "[7, 1, 3, 9, 2, 4, 8, 5, 6]\n",
      "[9, 6, 1, 5, 3, 7, 2, 8, 4]\n",
      "[2, 8, 7, 4, 1, 9, 6, 3, 5]\n",
      "[3, 4, 5, 2, 8, 6, 1, 7, 9]\n"
     ]
    }
   ],
   "source": [
    "# EXAMPLE INPUT \n",
    "\n",
    "sudoku_board = [\n",
    "    [5, 3, 0, 0, 7, 0, 0, 0, 0],\n",
    "    [6, 0, 0, 1, 9, 5, 0, 0, 0],\n",
    "    [0, 9, 8, 0, 0, 0, 0, 6, 0],\n",
    "    [8, 0, 0, 0, 6, 0, 0, 0, 3],\n",
    "    [4, 0, 0, 8, 0, 3, 0, 0, 1],\n",
    "    [7, 0, 0, 0, 2, 0, 0, 0, 6],\n",
    "    [0, 6, 0, 0, 0, 0, 2, 8, 0],\n",
    "    [0, 0, 0, 4, 1, 9, 0, 0, 5],\n",
    "    [0, 0, 0, 0, 8, 0, 0, 7, 9]\n",
    "]\n",
    "\n",
    "solve_sudoku(sudoku_board)\n",
    "for row in sudoku_board:\n",
    "    print(row)\n"
   ]
  },
  {
   "cell_type": "code",
   "execution_count": null,
   "id": "2a9b8bc5-80c1-4b2b-82f1-ecfe54f291a0",
   "metadata": {},
   "outputs": [],
   "source": []
  }
 ],
 "metadata": {
  "kernelspec": {
   "display_name": "Python 3 (ipykernel)",
   "language": "python",
   "name": "python3"
  },
  "language_info": {
   "codemirror_mode": {
    "name": "ipython",
    "version": 3
   },
   "file_extension": ".py",
   "mimetype": "text/x-python",
   "name": "python",
   "nbconvert_exporter": "python",
   "pygments_lexer": "ipython3",
   "version": "3.11.7"
  }
 },
 "nbformat": 4,
 "nbformat_minor": 5
}
