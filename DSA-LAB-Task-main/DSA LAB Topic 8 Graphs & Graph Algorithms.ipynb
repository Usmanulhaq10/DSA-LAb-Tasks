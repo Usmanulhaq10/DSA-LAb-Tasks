{
 "cells": [
  {
   "cell_type": "code",
   "execution_count": 1,
   "id": "99ea5f74-d0e1-4656-88e8-bdc0c7558d52",
   "metadata": {},
   "outputs": [],
   "source": [
    "# Task 1: Implementing a Graph Using Adjacency List & Adjacency Matrix\n",
    "\n",
    "class Graph:\n",
    "    def __init__(self, vertices, directed=False):\n",
    "        self.V = vertices\n",
    "        self.directed = directed\n",
    "        self.adj_list = {i: [] for i in range(vertices)}\n",
    "        self.adj_matrix = [[0] * vertices for _ in range(vertices)]\n",
    "\n",
    "    def add_edge(self, v1, v2):\n",
    "        self.adj_list[v1].append(v2)\n",
    "        self.adj_matrix[v1][v2] = 1\n",
    "        if not self.directed:\n",
    "            self.adj_list[v2].append(v1)\n",
    "            self.adj_matrix[v2][v1] = 1\n",
    "\n",
    "    def remove_edge(self, v1, v2):\n",
    "        if v2 in self.adj_list[v1]:\n",
    "            self.adj_list[v1].remove(v2)\n",
    "        self.adj_matrix[v1][v2] = 0\n",
    "        if not self.directed:\n",
    "            if v1 in self.adj_list[v2]:\n",
    "                self.adj_list[v2].remove(v1)\n",
    "            self.adj_matrix[v2][v1] = 0\n",
    "\n",
    "    def display(self):\n",
    "        print(\"Adjacency List:\")\n",
    "        for vertex in self.adj_list:\n",
    "            print(f\"{vertex}: {self.adj_list[vertex]}\")\n",
    "        print(\"\\nAdjacency Matrix:\")\n",
    "        for row in self.adj_matrix:\n",
    "            print(row)\n"
   ]
  },
  {
   "cell_type": "code",
   "execution_count": 2,
   "id": "9145980b-3543-41d3-baab-9c1f76f92d83",
   "metadata": {},
   "outputs": [
    {
     "name": "stdout",
     "output_type": "stream",
     "text": [
      "Adjacency List:\n",
      "0: [1, 2]\n",
      "1: [0, 3]\n",
      "2: [0, 4]\n",
      "3: [1]\n",
      "4: [2]\n",
      "\n",
      "Adjacency Matrix:\n",
      "[0, 1, 1, 0, 0]\n",
      "[1, 0, 0, 1, 0]\n",
      "[1, 0, 0, 0, 1]\n",
      "[0, 1, 0, 0, 0]\n",
      "[0, 0, 1, 0, 0]\n",
      "\n",
      "After removing edge 0-2:\n",
      "Adjacency List:\n",
      "0: [1]\n",
      "1: [0, 3]\n",
      "2: [4]\n",
      "3: [1]\n",
      "4: [2]\n",
      "\n",
      "Adjacency Matrix:\n",
      "[0, 1, 0, 0, 0]\n",
      "[1, 0, 0, 1, 0]\n",
      "[0, 0, 0, 0, 1]\n",
      "[0, 1, 0, 0, 0]\n",
      "[0, 0, 1, 0, 0]\n"
     ]
    }
   ],
   "source": [
    "# TEST CASE \n",
    "\n",
    "g = Graph(5)\n",
    "g.add_edge(0, 1)\n",
    "g.add_edge(0, 2)\n",
    "g.add_edge(1, 3)\n",
    "g.add_edge(2, 4)\n",
    "\n",
    "g.display()\n",
    "\n",
    "# Remove an edge and redisplay\n",
    "g.remove_edge(0, 2)\n",
    "print(\"\\nAfter removing edge 0-2:\")\n",
    "g.display()\n"
   ]
  },
  {
   "cell_type": "code",
   "execution_count": 3,
   "id": "caaeb4a7-7746-4b27-a6d2-c0e53d5bd86b",
   "metadata": {},
   "outputs": [],
   "source": [
    "# Task 2: Implementing Breadth-First Search (BFS) and Depth-First Search (DFS)\n",
    "\n",
    "from collections import deque\n",
    "\n",
    "class Graph:\n",
    "    def __init__(self, vertices):\n",
    "        self.V = vertices\n",
    "        self.adj_list = {i: [] for i in range(vertices)}\n",
    "\n",
    "    def add_edge(self, v1, v2):\n",
    "        self.adj_list[v1].append(v2)\n",
    "        self.adj_list[v2].append(v1)\n",
    "\n",
    "    def bfs(self, start):\n",
    "        visited = [False] * self.V\n",
    "        queue = deque([start])\n",
    "        visited[start] = True\n",
    "        result = []\n",
    "\n",
    "        while queue:\n",
    "            node = queue.popleft()\n",
    "            result.append(node)\n",
    "            for neighbor in self.adj_list[node]:\n",
    "                if not visited[neighbor]:\n",
    "                    visited[neighbor] = True\n",
    "                    queue.append(neighbor)\n",
    "        return result\n",
    "\n",
    "    def dfs(self, start):\n",
    "        visited = [False] * self.V\n",
    "        result = []\n",
    "\n",
    "        def dfs_helper(node):\n",
    "            visited[node] = True\n",
    "            result.append(node)\n",
    "            for neighbor in self.adj_list[node]:\n",
    "                if not visited[neighbor]:\n",
    "                    dfs_helper(neighbor)\n",
    "\n",
    "        dfs_helper(start)\n",
    "        return result\n"
   ]
  },
  {
   "cell_type": "code",
   "execution_count": 4,
   "id": "a0ef4e18-9d19-4db6-978d-4163c261dfad",
   "metadata": {},
   "outputs": [
    {
     "name": "stdout",
     "output_type": "stream",
     "text": [
      "BFS: [0, 1, 2, 3, 4, 5]\n",
      "DFS: [0, 1, 3, 4, 2, 5]\n"
     ]
    }
   ],
   "source": [
    "# TEST CASE \n",
    "\n",
    "g = Graph(6)\n",
    "g.add_edge(0, 1)\n",
    "g.add_edge(0, 2)\n",
    "g.add_edge(1, 3)\n",
    "g.add_edge(1, 4)\n",
    "g.add_edge(2, 5)\n",
    "\n",
    "print(\"BFS:\", g.bfs(0))  # Output: [0, 1, 2, 3, 4, 5]\n",
    "print(\"DFS:\", g.dfs(0))  # Output: [0, 1, 3, 4, 2, 5] or similar\n"
   ]
  },
  {
   "cell_type": "code",
   "execution_count": 5,
   "id": "fbfe38bc-8a09-41c8-9d85-1529c8a0ae6d",
   "metadata": {},
   "outputs": [],
   "source": [
    "# Task 3: Implementing Dijkstra’s Algorithm for Shortest Path\n",
    "\n",
    "import heapq\n",
    "\n",
    "def dijkstra(graph, start):\n",
    "    distances = {node: float('inf') for node in graph}\n",
    "    distances[start] = 0\n",
    "    min_heap = [(0, start)]\n",
    "\n",
    "    while min_heap:\n",
    "        current_dist, current_node = heapq.heappop(min_heap)\n",
    "\n",
    "        if current_dist > distances[current_node]:\n",
    "            continue\n",
    "\n",
    "        for neighbor, weight in graph[current_node].items():\n",
    "            distance = current_dist + weight\n",
    "            if distance < distances[neighbor]:\n",
    "                distances[neighbor] = distance\n",
    "                heapq.heappush(min_heap, (distance, neighbor))\n",
    "\n",
    "    return distances\n"
   ]
  },
  {
   "cell_type": "code",
   "execution_count": 6,
   "id": "2a5d48cb-7c9f-4817-93e6-a57126aedace",
   "metadata": {},
   "outputs": [
    {
     "name": "stdout",
     "output_type": "stream",
     "text": [
      "{'A': 0, 'B': 3, 'C': 1, 'D': 8}\n"
     ]
    }
   ],
   "source": [
    "# TEST CASE \n",
    "\n",
    "graph = {\n",
    "    'A': {'B': 4, 'C': 1},\n",
    "    'B': {'A': 4, 'C': 2, 'D': 5},\n",
    "    'C': {'A': 1, 'B': 2, 'D': 8},\n",
    "    'D': {'B': 5, 'C': 8}\n",
    "}\n",
    "\n",
    "print(dijkstra(graph, 'A'))\n",
    "# Expected Output: {'A': 0, 'B': 3, 'C': 1, 'D': 8}\n"
   ]
  },
  {
   "cell_type": "code",
   "execution_count": null,
   "id": "07a2d7dc-90e2-4c1c-b3db-6827934b0902",
   "metadata": {},
   "outputs": [],
   "source": []
  }
 ],
 "metadata": {
  "kernelspec": {
   "display_name": "Python 3 (ipykernel)",
   "language": "python",
   "name": "python3"
  },
  "language_info": {
   "codemirror_mode": {
    "name": "ipython",
    "version": 3
   },
   "file_extension": ".py",
   "mimetype": "text/x-python",
   "name": "python",
   "nbconvert_exporter": "python",
   "pygments_lexer": "ipython3",
   "version": "3.11.7"
  }
 },
 "nbformat": 4,
 "nbformat_minor": 5
}
