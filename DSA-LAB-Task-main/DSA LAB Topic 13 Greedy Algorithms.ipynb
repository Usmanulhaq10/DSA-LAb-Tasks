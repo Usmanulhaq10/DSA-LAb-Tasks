{
 "cells": [
  {
   "cell_type": "code",
   "execution_count": 1,
   "id": "22cba44e-01b0-4500-a859-e1e427acd3f6",
   "metadata": {},
   "outputs": [],
   "source": [
    "# TASK 1\n",
    "\n",
    "def activity_selection(activities):\n",
    "    # Sort activities by their end times (greedy criterion)\n",
    "    activities.sort(key=lambda x: x[1])\n",
    "    \n",
    "    selected = []\n",
    "    last_end_time = 0\n",
    "\n",
    "    for start, end in activities:\n",
    "        if start >= last_end_time:\n",
    "            selected.append((start, end))\n",
    "            last_end_time = end\n",
    "\n",
    "    return selected\n"
   ]
  },
  {
   "cell_type": "code",
   "execution_count": 4,
   "id": "1a2f1570-efc1-4b8b-9815-9ba477f71e0d",
   "metadata": {},
   "outputs": [
    {
     "name": "stdout",
     "output_type": "stream",
     "text": [
      "[(1, 3), (6, 8), (8, 11)]\n"
     ]
    }
   ],
   "source": [
    "# TEST CASE \n",
    "\n",
    "activities = [(1, 3), (2, 5), (3, 9), (6, 8), (8, 11)]\n",
    "print(activity_selection(activities))  \n",
    "\n"
   ]
  },
  {
   "cell_type": "code",
   "execution_count": 5,
   "id": "645fa996-d4b5-46b8-b897-1d7b9793ad8e",
   "metadata": {},
   "outputs": [
    {
     "name": "stdout",
     "output_type": "stream",
     "text": [
      "Huffman Codes: {'l': '00', 'e': '01', 'y': '100', 'r': '1010', 'g': '1011', 'd': '1100', ' ': '1101', 'h': '1110', 'o': '1111'}\n",
      "Encoded String: 1110010000111111011011101001011100100\n",
      "Original Size: 96 bits\n",
      "Compressed Size: 37 bits\n",
      "\n",
      "Explanation:\n",
      "Huffman Coding is greedy because it always merges the two lowest-frequency nodes first,\n",
      "which locally minimizes the cost at each step and leads to a globally optimal prefix code.\n"
     ]
    }
   ],
   "source": [
    "# TASK 2\n",
    "\n",
    "import heapq\n",
    "from collections import defaultdict, Counter\n",
    "\n",
    "class HuffmanNode:\n",
    "    def __init__(self, char=None, freq=0):\n",
    "        self.char = char\n",
    "        self.freq = freq\n",
    "        self.left = None\n",
    "        self.right = None\n",
    "\n",
    "    def __lt__(self, other):\n",
    "        return self.freq < other.freq\n",
    "\n",
    "def build_huffman_tree(text):\n",
    "    freq_map = Counter(text)\n",
    "    heap = [HuffmanNode(char, freq) for char, freq in freq_map.items()]\n",
    "    heapq.heapify(heap)\n",
    "\n",
    "    while len(heap) > 1:\n",
    "        node1 = heapq.heappop(heap)\n",
    "        node2 = heapq.heappop(heap)\n",
    "        merged = HuffmanNode(freq=node1.freq + node2.freq)\n",
    "        merged.left = node1\n",
    "        merged.right = node2\n",
    "        heapq.heappush(heap, merged)\n",
    "\n",
    "    return heap[0]\n",
    "\n",
    "def generate_codes(root, current_code=\"\", code_map={}):\n",
    "    if root is None:\n",
    "        return\n",
    "    if root.char is not None:\n",
    "        code_map[root.char] = current_code\n",
    "    generate_codes(root.left, current_code + \"0\", code_map)\n",
    "    generate_codes(root.right, current_code + \"1\", code_map)\n",
    "    return code_map\n",
    "\n",
    "def encode_text(text, code_map):\n",
    "    return ''.join(code_map[char] for char in text)\n",
    "\n",
    "def huffman_encoding(text):\n",
    "    if not text:\n",
    "        return {}, \"\", 0, 0\n",
    "\n",
    "    root = build_huffman_tree(text)\n",
    "    code_map = generate_codes(root)\n",
    "    encoded_text = encode_text(text, code_map)\n",
    "    original_size = len(text) * 8  # Assuming 8 bits per character\n",
    "    compressed_size = len(encoded_text)\n",
    "    return code_map, encoded_text, original_size, compressed_size\n",
    "\n",
    "# Test\n",
    "text = \"hello greedy\"\n",
    "codes, encoded, original_bits, compressed_bits = huffman_encoding(text)\n",
    "print(\"Huffman Codes:\", codes)\n",
    "print(\"Encoded String:\", encoded)\n",
    "print(f\"Original Size: {original_bits} bits\")\n",
    "print(f\"Compressed Size: {compressed_bits} bits\")\n",
    "\n",
    "# Explanation:\n",
    "print(\"\\nExplanation:\")\n",
    "print(\"Huffman Coding is greedy because it always merges the two lowest-frequency nodes first,\")\n",
    "print(\"which locally minimizes the cost at each step and leads to a globally optimal prefix code.\")\n"
   ]
  },
  {
   "cell_type": "code",
   "execution_count": 6,
   "id": "da9ca187-f2ae-4e33-94a5-cffa3d52772b",
   "metadata": {},
   "outputs": [
    {
     "name": "stdout",
     "output_type": "stream",
     "text": [
      "[(2, 3, 1), (3, 4, 2), (1, 3, 3)]\n"
     ]
    }
   ],
   "source": [
    "# TASK 3\n",
    "\n",
    "class DisjointSet:\n",
    "    def __init__(self, n):\n",
    "        self.parent = list(range(n + 1))\n",
    "        self.rank = [0] * (n + 1)\n",
    "\n",
    "    def find(self, u):\n",
    "        if self.parent[u] != u:\n",
    "            self.parent[u] = self.find(self.parent[u])  # Path compression\n",
    "        return self.parent[u]\n",
    "\n",
    "    def union(self, u, v):\n",
    "        root_u = self.find(u)\n",
    "        root_v = self.find(v)\n",
    "\n",
    "        if root_u == root_v:\n",
    "            return False  # Cycle\n",
    "\n",
    "        # Union by rank\n",
    "        if self.rank[root_u] < self.rank[root_v]:\n",
    "            self.parent[root_u] = root_v\n",
    "        elif self.rank[root_u] > self.rank[root_v]:\n",
    "            self.parent[root_v] = root_u\n",
    "        else:\n",
    "            self.parent[root_v] = root_u\n",
    "            self.rank[root_u] += 1\n",
    "        return True\n",
    "\n",
    "\n",
    "def kruskal(edges, num_nodes):\n",
    "    # Sort edges by weight\n",
    "    edges.sort(key=lambda x: x[2])\n",
    "    ds = DisjointSet(num_nodes)\n",
    "    mst = []\n",
    "\n",
    "    for u, v, weight in edges:\n",
    "        if ds.union(u, v):\n",
    "            mst.append((u, v, weight))\n",
    "\n",
    "    return mst\n",
    "\n",
    "\n",
    "# Example Usage\n",
    "edges = [(1, 2, 4), (2, 3, 1), (1, 3, 3), (3, 4, 2)]\n",
    "print(kruskal(edges, 4))\n"
   ]
  },
  {
   "cell_type": "code",
   "execution_count": null,
   "id": "6c82b468-d328-4ef5-b1a8-d1c775107c4e",
   "metadata": {},
   "outputs": [],
   "source": []
  }
 ],
 "metadata": {
  "kernelspec": {
   "display_name": "Python 3 (ipykernel)",
   "language": "python",
   "name": "python3"
  },
  "language_info": {
   "codemirror_mode": {
    "name": "ipython",
    "version": 3
   },
   "file_extension": ".py",
   "mimetype": "text/x-python",
   "name": "python",
   "nbconvert_exporter": "python",
   "pygments_lexer": "ipython3",
   "version": "3.11.7"
  }
 },
 "nbformat": 4,
 "nbformat_minor": 5
}
