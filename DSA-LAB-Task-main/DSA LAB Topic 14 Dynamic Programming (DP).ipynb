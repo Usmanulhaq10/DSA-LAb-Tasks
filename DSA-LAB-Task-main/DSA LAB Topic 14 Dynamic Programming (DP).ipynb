{
 "cells": [
  {
   "cell_type": "code",
   "execution_count": 1,
   "id": "5f38df9f-b7c1-4afa-b325-ddd5e7e765e4",
   "metadata": {},
   "outputs": [
    {
     "name": "stdout",
     "output_type": "stream",
     "text": [
      "55\n"
     ]
    }
   ],
   "source": [
    "#TASK 1: Fibonacci with Memoization (Top-Down Approach)\n",
    "\n",
    "def fib_memoization(n, memo=None):\n",
    "    if memo is None:\n",
    "        memo = {}\n",
    "    if n <= 1:\n",
    "        return n\n",
    "    if n not in memo:\n",
    "        memo[n] = fib_memoization(n - 1, memo) + fib_memoization(n - 2, memo)\n",
    "    return memo[n]\n",
    "\n",
    "# Example\n",
    "print(fib_memoization(10))  # Output: 55\n"
   ]
  },
  {
   "cell_type": "code",
   "execution_count": 2,
   "id": "155574d3-588a-47a2-aa78-c77b28f54264",
   "metadata": {},
   "outputs": [
    {
     "name": "stdout",
     "output_type": "stream",
     "text": [
      "55\n"
     ]
    }
   ],
   "source": [
    "# TASK 1.2. Fibonacci with Tabulation (Bottom-Up Approach)\n",
    "\n",
    "def fib_tabulation(n):\n",
    "    if n <= 1:\n",
    "        return n\n",
    "    dp = [0] * (n + 1)\n",
    "    dp[1] = 1\n",
    "\n",
    "    for i in range(2, n + 1):\n",
    "        dp[i] = dp[i - 1] + dp[i - 2]\n",
    "\n",
    "    return dp[n]\n",
    "\n",
    "# Example\n",
    "print(fib_tabulation(10))  # Output: 55\n"
   ]
  },
  {
   "cell_type": "code",
   "execution_count": 4,
   "id": "5aa6906a-fc94-4824-9e89-e08c01d17227",
   "metadata": {},
   "outputs": [
    {
     "name": "stdout",
     "output_type": "stream",
     "text": [
      "GTAB\n"
     ]
    }
   ],
   "source": [
    "# TASK 2. 1. LCS Using Recursion + Memoization (Top-Down)\n",
    "def lcs_memo(s1, s2):\n",
    "    memo = {}\n",
    "\n",
    "    def dp(i, j):\n",
    "        if i == len(s1) or j == len(s2):\n",
    "            return \"\"\n",
    "        if (i, j) in memo:\n",
    "            return memo[(i, j)]\n",
    "\n",
    "        if s1[i] == s2[j]:\n",
    "            memo[(i, j)] = s1[i] + dp(i + 1, j + 1)\n",
    "        else:\n",
    "            res1 = dp(i + 1, j)\n",
    "            res2 = dp(i, j + 1)\n",
    "            memo[(i, j)] = res1 if len(res1) > len(res2) else res2\n",
    "        return memo[(i, j)]\n",
    "\n",
    "    return dp(0, 0)\n",
    "\n",
    "# Example\n",
    "print(lcs_memo(\"AGGTAB\", \"GXTXAYB\"))  # Output: \"GTAB\"\n",
    "\n",
    "\n"
   ]
  },
  {
   "cell_type": "code",
   "execution_count": 5,
   "id": "32a1e9cf-a8b8-4e07-9db1-b462342e6c8b",
   "metadata": {},
   "outputs": [
    {
     "name": "stdout",
     "output_type": "stream",
     "text": [
      "GTAB\n"
     ]
    }
   ],
   "source": [
    "# TASK 2.2 LCS Using Tabulation (Bottom-Up 2D DP Table)\n",
    "\n",
    "def lcs_tab(s1, s2):\n",
    "    m, n = len(s1), len(s2)\n",
    "    dp = [[\"\"] * (n + 1) for _ in range(m + 1)]\n",
    "\n",
    "    for i in reversed(range(m)):\n",
    "        for j in reversed(range(n)):\n",
    "            if s1[i] == s2[j]:\n",
    "                dp[i][j] = s1[i] + dp[i + 1][j + 1]\n",
    "            else:\n",
    "                dp[i][j] = max(dp[i + 1][j], dp[i][j + 1], key=len)\n",
    "\n",
    "    return dp[0][0]\n",
    "\n",
    "# Example\n",
    "print(lcs_tab(\"AGGTAB\", \"GXTXAYB\"))  # Output: \"GTAB\"\n"
   ]
  },
  {
   "cell_type": "code",
   "execution_count": 6,
   "id": "35158277-8921-4b13-b4e6-dab3f3fc5fd9",
   "metadata": {},
   "outputs": [],
   "source": [
    "# TASK 3\n",
    "\n",
    "def knapsack(weights, values, capacity):\n",
    "    n = len(weights)\n",
    "    dp = [[0] * (capacity + 1) for _ in range(n + 1)]\n",
    "\n",
    "    for i in range(1, n + 1):  # i = current item\n",
    "        for w in range(capacity + 1):  # w = current capacity\n",
    "            if weights[i - 1] <= w:\n",
    "                # Max of including or excluding the current item\n",
    "                dp[i][w] = max(\n",
    "                    dp[i - 1][w],  # Exclude item\n",
    "                    values[i - 1] + dp[i - 1][w - weights[i - 1]]  # Include item\n",
    "                )\n",
    "            else:\n",
    "                dp[i][w] = dp[i - 1][w]  # Can't include item\n",
    "\n",
    "    return dp[n][capacity]\n"
   ]
  },
  {
   "cell_type": "code",
   "execution_count": 7,
   "id": "faba901d-5c8b-4c0f-a68e-7327f36d0c1c",
   "metadata": {},
   "outputs": [
    {
     "name": "stdout",
     "output_type": "stream",
     "text": [
      "7\n"
     ]
    }
   ],
   "source": [
    "# TEST CASE \n",
    "\n",
    "weights = [2, 3, 4, 5]\n",
    "values = [3, 4, 5, 6]\n",
    "capacity = 5\n",
    "print(knapsack(weights, values, capacity))  # Output: 7\n"
   ]
  },
  {
   "cell_type": "code",
   "execution_count": null,
   "id": "f2e92d8f-817c-4435-94eb-b80428ecc908",
   "metadata": {},
   "outputs": [],
   "source": []
  }
 ],
 "metadata": {
  "kernelspec": {
   "display_name": "Python 3 (ipykernel)",
   "language": "python",
   "name": "python3"
  },
  "language_info": {
   "codemirror_mode": {
    "name": "ipython",
    "version": 3
   },
   "file_extension": ".py",
   "mimetype": "text/x-python",
   "name": "python",
   "nbconvert_exporter": "python",
   "pygments_lexer": "ipython3",
   "version": "3.11.7"
  }
 },
 "nbformat": 4,
 "nbformat_minor": 5
}
