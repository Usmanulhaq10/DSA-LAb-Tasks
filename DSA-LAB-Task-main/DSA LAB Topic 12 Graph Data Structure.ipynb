{
 "cells": [
  {
   "cell_type": "code",
   "execution_count": 1,
   "id": "b5e4a73e-1fa0-44c4-8309-490ea4f50352",
   "metadata": {},
   "outputs": [],
   "source": [
    "# TASK 1\n",
    "\n",
    "class Graph:\n",
    "    def __init__(self, directed=False):\n",
    "        self.directed = directed\n",
    "        self.vertices = []\n",
    "        self.adj_list = {}\n",
    "        self.adj_matrix = []\n",
    "\n",
    "    def add_vertex(self, vertex):\n",
    "        if vertex not in self.vertices:\n",
    "            self.vertices.append(vertex)\n",
    "            self.adj_list[vertex] = []\n",
    "            # Expand adjacency matrix\n",
    "            for row in self.adj_matrix:\n",
    "                row.append(0)\n",
    "            self.adj_matrix.append([0] * len(self.vertices))\n",
    "\n",
    "    def add_edge(self, src, dest):\n",
    "        if src not in self.vertices or dest not in self.vertices:\n",
    "            raise ValueError(\"Both vertices must exist before adding an edge.\")\n",
    "        \n",
    "        # Update adjacency list\n",
    "        self.adj_list[src].append(dest)\n",
    "        if not self.directed:\n",
    "            self.adj_list[dest].append(src)\n",
    "        \n",
    "        # Update adjacency matrix\n",
    "        i, j = self.vertices.index(src), self.vertices.index(dest)\n",
    "        self.adj_matrix[i][j] = 1\n",
    "        if not self.directed:\n",
    "            self.adj_matrix[j][i] = 1\n",
    "\n",
    "    def display_adj_list(self):\n",
    "        print(\"Adjacency List:\")\n",
    "        for vertex in self.vertices:\n",
    "            print(f\"{vertex}: {self.adj_list[vertex]}\")\n",
    "\n",
    "    def display_adj_matrix(self):\n",
    "        print(\"\\nAdjacency Matrix:\")\n",
    "        print(\"  \", \" \".join(self.vertices))\n",
    "        for i, vertex in enumerate(self.vertices):\n",
    "            row = ' '.join(str(val) for val in self.adj_matrix[i])\n",
    "            print(f\"{vertex} {row}\")\n"
   ]
  },
  {
   "cell_type": "code",
   "execution_count": 2,
   "id": "8b424b8a-116f-4c82-8564-62f1ea5c2a68",
   "metadata": {},
   "outputs": [
    {
     "name": "stdout",
     "output_type": "stream",
     "text": [
      "Adjacency List:\n",
      "A: ['B']\n",
      "B: []\n",
      "\n",
      "Adjacency Matrix:\n",
      "   A B\n",
      "A 0 1\n",
      "B 0 0\n"
     ]
    }
   ],
   "source": [
    "# TEST CASE \n",
    "\n",
    "# Test example\n",
    "g = Graph(directed=True)\n",
    "g.add_vertex(\"A\")\n",
    "g.add_vertex(\"B\")\n",
    "g.add_edge(\"A\", \"B\")\n",
    "g.display_adj_list()\n",
    "g.display_adj_matrix()\n"
   ]
  },
  {
   "cell_type": "code",
   "execution_count": 3,
   "id": "23dc5592-63f3-4919-8a2b-5a67ec88ca3e",
   "metadata": {},
   "outputs": [],
   "source": [
    "# TASK 2\n",
    "\n",
    "from collections import deque\n",
    "\n",
    "class Graph:\n",
    "    def __init__(self, directed=False):\n",
    "        self.graph = {}  # adjacency list\n",
    "        self.directed = directed\n",
    "\n",
    "    def add_edge(self, u, v):\n",
    "        if u not in self.graph:\n",
    "            self.graph[u] = []\n",
    "        if v not in self.graph:\n",
    "            self.graph[v] = []\n",
    "        self.graph[u].append(v)\n",
    "        if not self.directed:\n",
    "            self.graph[v].append(u)\n",
    "\n",
    "    def bfs(self, start):\n",
    "        visited = set()\n",
    "        queue = deque([start])\n",
    "        result = []\n",
    "\n",
    "        while queue:\n",
    "            vertex = queue.popleft()\n",
    "            if vertex not in visited:\n",
    "                visited.add(vertex)\n",
    "                result.append(vertex)\n",
    "                for neighbor in self.graph[vertex]:\n",
    "                    if neighbor not in visited:\n",
    "                        queue.append(neighbor)\n",
    "        return result\n",
    "\n",
    "    def dfs_recursive(self, start):\n",
    "        visited = set()\n",
    "        result = []\n",
    "\n",
    "        def dfs(v):\n",
    "            visited.add(v)\n",
    "            result.append(v)\n",
    "            for neighbor in self.graph[v]:\n",
    "                if neighbor not in visited:\n",
    "                    dfs(neighbor)\n",
    "\n",
    "        dfs(start)\n",
    "        return result\n",
    "\n",
    "    def dfs_iterative(self, start):\n",
    "        visited = set()\n",
    "        stack = [start]\n",
    "        result = []\n",
    "\n",
    "        while stack:\n",
    "            vertex = stack.pop()\n",
    "            if vertex not in visited:\n",
    "                visited.add(vertex)\n",
    "                result.append(vertex)\n",
    "                # Add neighbors in reverse order to maintain similar order to recursion\n",
    "                stack.extend(reversed(self.graph[vertex]))\n",
    "        return result\n"
   ]
  },
  {
   "cell_type": "code",
   "execution_count": 4,
   "id": "bef94445-8362-400e-95c4-d605ef4dc5c1",
   "metadata": {},
   "outputs": [
    {
     "name": "stdout",
     "output_type": "stream",
     "text": [
      "BFS: [0, 1, 2, 3]\n",
      "DFS (Recursive): [0, 1, 3, 2]\n",
      "DFS (Iterative): [0, 1, 3, 2]\n"
     ]
    }
   ],
   "source": [
    "# TEST CASE \n",
    "\n",
    "g = Graph()\n",
    "g.add_edge(0, 1)\n",
    "g.add_edge(0, 2)\n",
    "g.add_edge(1, 3)\n",
    "g.add_edge(2, 3)\n",
    "\n",
    "print(\"BFS:\", g.bfs(0))                # Output: [0, 1, 2, 3]\n",
    "print(\"DFS (Recursive):\", g.dfs_recursive(0))  # Example Output: [0, 1, 3, 2]\n",
    "print(\"DFS (Iterative):\", g.dfs_iterative(0))  # Example Output: [0, 2, 3, 1]\n"
   ]
  },
  {
   "cell_type": "code",
   "execution_count": 5,
   "id": "0e1acac5-be5e-45cc-bce4-6d2336e61c92",
   "metadata": {},
   "outputs": [],
   "source": [
    "# TASK 3\n",
    "\n",
    "import heapq\n",
    "\n",
    "class Graph:\n",
    "    def __init__(self):\n",
    "        self.graph = {}  # {node: [(neighbor, weight), ...]}\n",
    "\n",
    "    def add_edge(self, u, v, weight):\n",
    "        if u not in self.graph:\n",
    "            self.graph[u] = []\n",
    "        if v not in self.graph:\n",
    "            self.graph[v] = []\n",
    "        self.graph[u].append((v, weight))\n",
    "        # For undirected graph, uncomment the next line:\n",
    "        # self.graph[v].append((u, weight))\n",
    "\n",
    "    def dijkstra(self, start):\n",
    "        distances = {node: float('inf') for node in self.graph}\n",
    "        distances[start] = 0\n",
    "        min_heap = [(0, start)]\n",
    "\n",
    "        while min_heap:\n",
    "            current_dist, current_node = heapq.heappop(min_heap)\n",
    "\n",
    "            if current_dist > distances[current_node]:\n",
    "                continue  # Skip if already found a better path\n",
    "\n",
    "            for neighbor, weight in self.graph[current_node]:\n",
    "                distance = current_dist + weight\n",
    "                if distance < distances[neighbor]:\n",
    "                    distances[neighbor] = distance\n",
    "                    heapq.heappush(min_heap, (distance, neighbor))\n",
    "\n",
    "        return distances\n"
   ]
  },
  {
   "cell_type": "code",
   "execution_count": 6,
   "id": "663f3b16-edc3-4791-b561-4d494c01dca4",
   "metadata": {},
   "outputs": [
    {
     "name": "stdout",
     "output_type": "stream",
     "text": [
      "{'A': 0, 'B': 3, 'C': 1, 'D': 4}\n"
     ]
    }
   ],
   "source": [
    "# TEST CASE \n",
    "\n",
    "g = Graph()\n",
    "g.add_edge(\"A\", \"B\", 4)\n",
    "g.add_edge(\"A\", \"C\", 1)\n",
    "g.add_edge(\"C\", \"B\", 2)\n",
    "g.add_edge(\"B\", \"D\", 1)\n",
    "\n",
    "print(g.dijkstra(\"A\"))\n"
   ]
  },
  {
   "cell_type": "code",
   "execution_count": null,
   "id": "fe785b6c-3b84-4bb3-b972-dc678653c42c",
   "metadata": {},
   "outputs": [],
   "source": []
  }
 ],
 "metadata": {
  "kernelspec": {
   "display_name": "Python 3 (ipykernel)",
   "language": "python",
   "name": "python3"
  },
  "language_info": {
   "codemirror_mode": {
    "name": "ipython",
    "version": 3
   },
   "file_extension": ".py",
   "mimetype": "text/x-python",
   "name": "python",
   "nbconvert_exporter": "python",
   "pygments_lexer": "ipython3",
   "version": "3.11.7"
  }
 },
 "nbformat": 4,
 "nbformat_minor": 5
}
